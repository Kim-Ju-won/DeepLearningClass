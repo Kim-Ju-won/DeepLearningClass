{
 "cells": [
  {
   "cell_type": "code",
   "execution_count": 1,
   "metadata": {},
   "outputs": [],
   "source": [
    "location_to_state = {\n",
    "    'L1' : 0,\n",
    "    'L2' : 1,\n",
    "    'L3' : 2,\n",
    "    'L4' : 3,\n",
    "    'L5' : 4,\n",
    "    'L6' : 5,\n",
    "    'L7' : 6,\n",
    "    'L8' : 7,\n",
    "    'L9' : 8\n",
    "}\n",
    " "
   ]
  },
  {
   "cell_type": "code",
   "execution_count": 2,
   "metadata": {},
   "outputs": [],
   "source": [
    "import numpy as np"
   ]
  },
  {
   "cell_type": "code",
   "execution_count": 3,
   "metadata": {},
   "outputs": [],
   "source": [
    "actions = [0,1,2,3,4,5,6,7,8]"
   ]
  },
  {
   "cell_type": "code",
   "execution_count": 4,
   "metadata": {},
   "outputs": [],
   "source": [
    "#Define the rewards\n",
    "rewards = np.array([[0,1,0,0,0,0,0,0,0],\n",
    "              [1,0,1,0,0,0,0,0,0],\n",
    "              [0,1,0,0,0,1,0,0,0],\n",
    "              [0,0,0,0,0,0,1,0,0],\n",
    "              [0,1,0,0,0,0,0,1,0],\n",
    "              [0,0,1,0,0,0,0,0,0],\n",
    "              [0,0,0,1,0,0,0,1,0],\n",
    "              [0,0,0,0,1,0,1,0,1],\n",
    "              [0,0,0,0,0,0,0,1,0]])"
   ]
  },
  {
   "cell_type": "code",
   "execution_count": 5,
   "metadata": {},
   "outputs": [
    {
     "name": "stdout",
     "output_type": "stream",
     "text": [
      "{0: 'L1', 1: 'L2', 2: 'L3', 3: 'L4', 4: 'L5', 5: 'L6', 6: 'L7', 7: 'L8', 8: 'L9'}\n"
     ]
    }
   ],
   "source": [
    "#Maps indices to locations\n",
    "state_to_location = dict((state,location) for location,state in \n",
    "                         location_to_state.items())\n",
    "print(state_to_location)"
   ]
  },
  {
   "cell_type": "code",
   "execution_count": null,
   "metadata": {},
   "outputs": [],
   "source": []
  },
  {
   "cell_type": "code",
   "execution_count": 6,
   "metadata": {},
   "outputs": [],
   "source": [
    "#Initialize parameters\n",
    "gamma = 0.75 # Discount factor\n",
    "alpha = 0.9 # Learning rate"
   ]
  },
  {
   "cell_type": "code",
   "execution_count": 19,
   "metadata": {},
   "outputs": [],
   "source": [
    "def get_optimal_route(start_location,end_location):\n",
    "    rewards_new = np.copy(rewards)\n",
    "    ending_state = location_to_state[end_location]\n",
    "    rewards_new[ending_state,ending_state] = 999\n",
    " \n",
    "    Q = np.array(np.zeros([9,9]))\n",
    " \n",
    "    # Q-Learning process\n",
    "    for i in range(1000):\n",
    "        # Picking up a random state\n",
    "        current_state = np.random.randint(0,9) \n",
    "        # Python excludes the upper bound\n",
    "        playable_actions = []\n",
    "        # Iterating through the new rewards matrix\n",
    "        for j in range(9):\n",
    "            if rewards_new[current_state,j] > 0:\n",
    "                playable_actions.append(j)\n",
    "        # Pick a random action that will lead us to next state\n",
    "        next_state = np.random.choice(playable_actions)\n",
    "        # Computing Temporal Difference\n",
    "        TD = rewards_new[current_state,next_state] + gamma * Q[next_state, np.argmax(Q[next_state,])] - Q[current_state,next_state]\n",
    "        # Updating the Q-Value using the Bellman equation\n",
    "        Q[current_state,next_state] += alpha * TD\n",
    " \n",
    "    # Initialize the optimal route with the starting location\n",
    "    route = [start_location]\n",
    "    #Initialize next_location with starting location\n",
    "    next_location = start_location\n",
    " \n",
    "    # We don't know about the exact number of iterations \n",
    "    #needed to reach to the final location hence while loop \n",
    "    #will be a good choice for iteratiing\n",
    "    while(next_location != end_location):\n",
    "        # Fetch the starting state\n",
    "        starting_state = location_to_state[start_location]\n",
    "        # Fetch the highest Q-value pertaining to starting state\n",
    "        next_state = np.argmax(Q[starting_state,])\n",
    "        # We got the index of the next state. \n",
    "        #But we need the corresponding letter.\n",
    "        next_location = state_to_location[next_state]\n",
    "        route.append(next_location)\n",
    "        # Update the starting location for the next iteration\n",
    "        start_location = next_location\n",
    "    \n",
    "    print(Q)\n",
    " \n",
    "    return route\n"
   ]
  },
  {
   "cell_type": "code",
   "execution_count": 20,
   "metadata": {},
   "outputs": [
    {
     "name": "stdout",
     "output_type": "stream",
     "text": [
      "[[3995.99980258 2249.49988264    0.            0.            0.\n",
      "     0.            0.            0.            0.        ]\n",
      " [2997.99984757    0.         1688.12487606    0.            0.\n",
      "     0.            0.            0.            0.        ]\n",
      " [   0.         2249.49983499    0.            0.            0.\n",
      "  1267.09317053    0.            0.            0.        ]\n",
      " [   0.            0.            0.            0.            0.\n",
      "     0.          951.32000208    0.            0.        ]\n",
      " [   0.         2249.49984863    0.            0.            0.\n",
      "     0.            0.         1267.09346432    0.        ]\n",
      " [   0.            0.         1688.12481136    0.            0.\n",
      "     0.            0.            0.            0.        ]\n",
      " [   0.            0.            0.          714.48993068    0.\n",
      "     0.            0.         1267.09333612    0.        ]\n",
      " [   0.            0.            0.            0.         1688.1246194\n",
      "     0.          951.319134      0.          951.32007911]\n",
      " [   0.            0.            0.            0.            0.\n",
      "     0.            0.         1267.09346454    0.        ]]\n",
      "['L8', 'L5', 'L2', 'L1']\n"
     ]
    }
   ],
   "source": [
    "print(get_optimal_route('L8','L1'))"
   ]
  },
  {
   "cell_type": "code",
   "execution_count": null,
   "metadata": {},
   "outputs": [],
   "source": []
  },
  {
   "cell_type": "code",
   "execution_count": null,
   "metadata": {},
   "outputs": [],
   "source": []
  },
  {
   "cell_type": "code",
   "execution_count": null,
   "metadata": {},
   "outputs": [],
   "source": []
  }
 ],
 "metadata": {
  "kernelspec": {
   "display_name": "Python 3",
   "language": "python",
   "name": "python3"
  },
  "language_info": {
   "codemirror_mode": {
    "name": "ipython",
    "version": 3
   },
   "file_extension": ".py",
   "mimetype": "text/x-python",
   "name": "python",
   "nbconvert_exporter": "python",
   "pygments_lexer": "ipython3",
   "version": "3.7.9"
  }
 },
 "nbformat": 4,
 "nbformat_minor": 4
}
